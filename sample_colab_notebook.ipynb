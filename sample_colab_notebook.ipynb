{
  "nbformat": 4,
  "nbformat_minor": 0,
  "metadata": {
    "colab": {
      "name": "Ambient_music_generation.ipynb",
      "provenance": [],
      "collapsed_sections": [],
      "include_colab_link": true
    },
    "kernelspec": {
      "name": "python3",
      "display_name": "Python 3"
    },
    "accelerator": "GPU"
  },
  "cells": [
    {
      "cell_type": "markdown",
      "metadata": {
        "id": "view-in-github",
        "colab_type": "text"
      },
      "source": [
        "<a href=\"https://colab.research.google.com/github/maekawataiki/ambient-music-generation/blob/master/sample_colab_notebook.ipynb\" target=\"_parent\"><img src=\"https://colab.research.google.com/assets/colab-badge.svg\" alt=\"Open In Colab\"/></a>"
      ]
    },
    {
      "cell_type": "markdown",
      "metadata": {
        "id": "kK7rcNRkWOGg",
        "colab_type": "text"
      },
      "source": [
        "# Ambient Music Generation\n",
        "Ambient Music MIDI to MIDI generator"
      ]
    },
    {
      "cell_type": "markdown",
      "metadata": {
        "id": "j6FnS2fsWWTM",
        "colab_type": "text"
      },
      "source": [
        "## Install Dependencies"
      ]
    },
    {
      "cell_type": "code",
      "metadata": {
        "id": "-9ra02XIAXv9",
        "colab_type": "code",
        "colab": {}
      },
      "source": [
        "!git clone https://github.com/pachyderm/ambient-music-generation\n",
        "!git clone https://github.com/jason9693/MusicTransformer-tensorflow2.0 music_transformer\n",
        "%cd music_transformer\n",
        "# !git clone https://github.com/jason9693/midi-neural-processor.git midi_processor\n",
        "!git clone https://github.com/gudgud96/midi-neural-processor midi_processor\n",
        "!pip install pretty_midi progress\n",
        "!pwd"
      ],
      "execution_count": null,
      "outputs": []
    },
    {
      "cell_type": "code",
      "metadata": {
        "id": "X-eXuZnP2cwK",
        "colab_type": "code",
        "colab": {}
      },
      "source": [
        "from model import MusicTransformer, MusicTransformerDecoder\n",
        "from custom.layers import *\n",
        "from custom import callback\n",
        "import params as par\n",
        "from tensorflow.python.keras.optimizer_v2.adam import Adam\n",
        "from data import Data\n",
        "import utils\n",
        "import datetime\n",
        "import argparse\n",
        "from midi_processor.processor import decode_midi, encode_midi\n",
        "import pretty_midi\n",
        "from google.colab import files"
      ],
      "execution_count": null,
      "outputs": []
    },
    {
      "cell_type": "code",
      "metadata": {
        "id": "mJUvgIuP_Q_K",
        "colab_type": "code",
        "colab": {}
      },
      "source": [
        "beam = None\n",
        "length = 2048\n",
        "save_path = \"../output.midi\"\n",
        "\n",
        "current_time = datetime.datetime.now().strftime('%Y%m%d-%H%M%S')\n",
        "gen_log_dir = 'logs/mt_decoder/generate_'+current_time+'/generate'\n",
        "gen_summary_writer = tf.summary.create_file_writer(gen_log_dir)"
      ],
      "execution_count": null,
      "outputs": []
    },
    {
      "cell_type": "markdown",
      "metadata": {
        "id": "2zj7XAePWdMd",
        "colab_type": "text"
      },
      "source": [
        "## Load Model"
      ]
    },
    {
      "cell_type": "code",
      "metadata": {
        "id": "pwMQpxBI5s8E",
        "colab_type": "code",
        "colab": {}
      },
      "source": [
        "with tf.device('/device:GPU:0'):\n",
        "  model_path = \"../ambient-music-generation/trained-models/ambient-musictransformer-model-1-may-27-2020_500-epochs\"\n",
        "  mt = MusicTransformerDecoder(loader_path=model_path)"
      ],
      "execution_count": null,
      "outputs": []
    },
    {
      "cell_type": "markdown",
      "metadata": {
        "id": "PsPO8bCTWhb2",
        "colab_type": "text"
      },
      "source": [
        "## Import MIDI"
      ]
    },
    {
      "cell_type": "code",
      "metadata": {
        "id": "OqNeXbEq9lil",
        "colab_type": "code",
        "colab": {}
      },
      "source": [
        "uploaded = files.upload()\n",
        "file_names = list(uploaded.keys())"
      ],
      "execution_count": null,
      "outputs": []
    },
    {
      "cell_type": "markdown",
      "metadata": {
        "id": "CNXKn-zfWo_9",
        "colab_type": "text"
      },
      "source": [
        "## Generate Result"
      ]
    },
    {
      "cell_type": "code",
      "metadata": {
        "id": "-va5Yz8iAhyY",
        "colab_type": "code",
        "colab": {}
      },
      "source": [
        "inputs = encode_midi(file_names[0])\n",
        "with gen_summary_writer.as_default():\n",
        "    result = mt.generate(inputs[:10], beam=beam, length=length, tf_board=True)"
      ],
      "execution_count": null,
      "outputs": []
    },
    {
      "cell_type": "markdown",
      "metadata": {
        "id": "UUAt_uA2WlmR",
        "colab_type": "text"
      },
      "source": [
        "## Write MIDI"
      ]
    },
    {
      "cell_type": "code",
      "metadata": {
        "id": "VMhq7PkM_Frh",
        "colab_type": "code",
        "colab": {}
      },
      "source": [
        "decode_midi(result, file_path=save_path)"
      ],
      "execution_count": null,
      "outputs": []
    },
    {
      "cell_type": "markdown",
      "metadata": {
        "id": "2ifWjPtcWx3p",
        "colab_type": "text"
      },
      "source": [
        "## Download MIDI"
      ]
    },
    {
      "cell_type": "code",
      "metadata": {
        "id": "YzfUesGuOayw",
        "colab_type": "code",
        "colab": {}
      },
      "source": [
        "files.download(save_path)"
      ],
      "execution_count": null,
      "outputs": []
    },
    {
      "cell_type": "code",
      "metadata": {
        "id": "eydXN93HXDy9",
        "colab_type": "code",
        "colab": {}
      },
      "source": [
        ""
      ],
      "execution_count": null,
      "outputs": []
    }
  ]
}